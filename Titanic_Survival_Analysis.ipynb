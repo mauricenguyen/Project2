{
 "cells": [
  {
   "cell_type": "markdown",
   "id": "9ab41e0b",
   "metadata": {},
   "source": [
    "# Titanic Survival Prediction"
   ]
  },
  {
   "cell_type": "markdown",
   "id": "7f2ce972",
   "metadata": {},
   "source": [
    "### Introduction\n",
    "This project uses the Titanic dataset to predict passenger survival using classification models. The goal is to uncover insights and accurately predict survival outcomes."
   ]
  },
  {
   "cell_type": "markdown",
   "id": "d54b871b",
   "metadata": {},
   "source": [
    "### Dataset Overview\n",
    "- Source: [Kaggle Titanic Dataset](https://www.kaggle.com/datasets/yasserh/titanic-dataset?select=Titanic-Dataset.csv)\n",
    "- Key Features: `Pclass`, `Sex`, `Age`, `SibSp`, `Parch`, `Fare`, `Embarked`\n",
    "- Target: `Survived` (1 = Survived, 0 = Did not survive)"
   ]
  },
  {
   "cell_type": "code",
   "execution_count": null,
   "id": "e8062c3e",
   "metadata": {},
   "outputs": [],
   "source": [
    "# Load necessary libraries\n",
    "import pandas as pd\n",
    "import seaborn as sns\n",
    "import matplotlib.pyplot as plt\n",
    "from sklearn.model_selection import train_test_split\n",
    "from sklearn.ensemble import RandomForestClassifier\n",
    "from sklearn.linear_model import LogisticRegression\n",
    "from sklearn.metrics import classification_report, accuracy_score"
   ]
  },
  {
   "cell_type": "code",
   "execution_count": null,
   "id": "53b5167a",
   "metadata": {},
   "outputs": [],
   "source": [
    "# Load the Titanic dataset\n",
    "data_path = '/mnt/data/Titanic-Dataset.csv'\n",
    "data = pd.read_csv(data_path)\n",
    "data.head()"
   ]
  },
  {
   "cell_type": "markdown",
   "id": "490a0c7c",
   "metadata": {},
   "source": [
    "### Data Preprocessing"
   ]
  },
  {
   "cell_type": "code",
   "execution_count": null,
   "id": "5cd3ee4e",
   "metadata": {},
   "outputs": [],
   "source": [
    "# Drop irrelevant columns and handle missing values\n",
    "data.drop(columns=['Cabin', 'Name', 'Ticket'], inplace=True)\n",
    "data['Age'].fillna(data['Age'].median(), inplace=True)\n",
    "data['Embarked'].fillna(data['Embarked'].mode()[0], inplace=True)\n",
    "data = pd.get_dummies(data, columns=['Sex', 'Embarked'], drop_first=True)\n",
    "data.head()"
   ]
  },
  {
   "cell_type": "markdown",
   "id": "fbabefe5",
   "metadata": {},
   "source": [
    "### Exploratory Data Analysis"
   ]
  },
  {
   "cell_type": "code",
   "execution_count": null,
   "id": "05585ae8",
   "metadata": {},
   "outputs": [],
   "source": [
    "# Visualize survival distribution\n",
    "sns.countplot(x='Survived', data=data)\n",
    "plt.title('Survival Distribution')\n",
    "plt.show()"
   ]
  },
  {
   "cell_type": "code",
   "execution_count": null,
   "id": "4252935c",
   "metadata": {},
   "outputs": [],
   "source": [
    "# Survival by gender\n",
    "sns.countplot(x='Survived', hue='Sex_male', data=data)\n",
    "plt.title('Survival by Gender')\n",
    "plt.show()"
   ]
  },
  {
   "cell_type": "code",
   "execution_count": null,
   "id": "b3f3d7ac",
   "metadata": {},
   "outputs": [],
   "source": [
    "# Survival by passenger class\n",
    "sns.countplot(x='Survived', hue='Pclass', data=data)\n",
    "plt.title('Survival by Passenger Class')\n",
    "plt.show()"
   ]
  },
  {
   "cell_type": "markdown",
   "id": "55831a6e",
   "metadata": {},
   "source": [
    "### Modeling and Evaluation"
   ]
  },
  {
   "cell_type": "code",
   "execution_count": null,
   "id": "91c209db",
   "metadata": {},
   "outputs": [],
   "source": [
    "# Define features and target\n",
    "X = data.drop(columns=['PassengerId', 'Survived'])\n",
    "y = data['Survived']\n",
    "\n",
    "# Split into training and testing sets\n",
    "X_train, X_test, y_train, y_test = train_test_split(X, y, test_size=0.2, random_state=42)"
   ]
  },
  {
   "cell_type": "code",
   "execution_count": null,
   "id": "eae46a2e",
   "metadata": {},
   "outputs": [],
   "source": [
    "# Train Logistic Regression\n",
    "log_model = LogisticRegression(max_iter=1000, random_state=42)\n",
    "log_model.fit(X_train, y_train)\n",
    "y_pred_log = log_model.predict(X_test)"
   ]
  },
  {
   "cell_type": "code",
   "execution_count": null,
   "id": "8251daea",
   "metadata": {},
   "outputs": [],
   "source": [
    "# Train Random Forest Classifier\n",
    "rf_model = RandomForestClassifier(random_state=42, n_estimators=100)\n",
    "rf_model.fit(X_train, y_train)\n",
    "y_pred_rf = rf_model.predict(X_test)"
   ]
  },
  {
   "cell_type": "code",
   "execution_count": null,
   "id": "019b1694",
   "metadata": {},
   "outputs": [],
   "source": [
    "# Evaluate models\n",
    "print('Logistic Regression Report')\n",
    "print(classification_report(y_test, y_pred_log))\n",
    "print('\\nRandom Forest Report')\n",
    "print(classification_report(y_test, y_pred_rf))"
   ]
  },
  {
   "cell_type": "markdown",
   "id": "519f75a5",
   "metadata": {},
   "source": [
    "### Insights and Impact\n",
    "1. **Key Factors Influencing Survival**:\n",
    "   - Gender: Females had a higher survival rate.\n",
    "   - Passenger Class: Higher classes had better survival rates.\n",
    "2. **Model Performance**:\n",
    "   - Random Forest slightly outperformed Logistic Regression.\n",
    "3. **Impact**:\n",
    "   - Social: Highlights historical inequalities in survival.\n",
    "   - Ethical: Use data responsibly to avoid discrimination.\n",
    "   - Business: Inform modern safety protocols."
   ]
  }
 ],
 "metadata": {},
 "nbformat": 4,
 "nbformat_minor": 5
}
